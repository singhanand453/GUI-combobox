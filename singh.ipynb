{
  "nbformat": 4,
  "nbformat_minor": 0,
  "metadata": {
    "colab": {
      "name": "singh.ipynb",
      "provenance": [],
      "include_colab_link": true
    },
    "kernelspec": {
      "name": "python3",
      "display_name": "Python 3"
    }
  },
  "cells": [
    {
      "cell_type": "markdown",
      "metadata": {
        "id": "view-in-github",
        "colab_type": "text"
      },
      "source": [
        "<a href=\"https://colab.research.google.com/github/singhanand453/combobox/blob/master/singh.ipynb\" target=\"_parent\"><img src=\"https://colab.research.google.com/assets/colab-badge.svg\" alt=\"Open In Colab\"/></a>"
      ]
    },
    {
      "cell_type": "code",
      "metadata": {
        "id": "XfKHK6bZqm-j",
        "colab_type": "code",
        "outputId": "c9f5e3a5-255c-449c-905e-90a60ffa35d9",
        "colab": {
          "base_uri": "https://localhost:8080/",
          "height": 119
        }
      },
      "source": [
        "import numpy as np\n",
        "import pandas as pd\n",
        "x=np.array(['a','b','c','d','e'])\n",
        "y=pd.Series(x)\n",
        "print(y)\n",
        "\n"
      ],
      "execution_count": 0,
      "outputs": [
        {
          "output_type": "stream",
          "text": [
            "0    a\n",
            "1    b\n",
            "2    c\n",
            "3    d\n",
            "4    e\n",
            "dtype: object\n"
          ],
          "name": "stdout"
        }
      ]
    },
    {
      "cell_type": "code",
      "metadata": {
        "id": "YKGNnH70ja2a",
        "colab_type": "code",
        "outputId": "09ba60ab-ccb2-47db-dd45-3ad400e094e1",
        "colab": {
          "base_uri": "https://localhost:8080/",
          "height": 269
        }
      },
      "source": [
        "import matplotlib.pyplot as plt\n",
        "value=[0,0.6,1.4,1.6,2.0,2.,2.6,3.2,3.5,3.9,4.2,6]\n",
        "plt.hist(value,bins=3)\n",
        "plt.show()"
      ],
      "execution_count": 0,
      "outputs": [
        {
          "output_type": "display_data",
          "data": {
            "image/png": "[encoded data removed]",
            "text/plain": [
              "<Figure size 432x288 with 1 Axes>"
            ]
          },
          "metadata": {
            "tags": []
          }
        }
      ]
    },
    {
      "cell_type": "code",
      "metadata": {
        "colab_type": "code",
        "outputId": "9204b72e-576c-4199-941e-ccf5529d41c2",
        "id": "54w4DEvG4VgC",
        "colab": {
          "base_uri": "https://localhost:8080/",
          "height": 295
        }
      },
      "source": [
        "import numpy as np \n",
        "from matplotlib import pyplot as plt \n",
        "x = np.arange(1,11) \n",
        "y = 2 * x + 5 \n",
        "plt.title(\"Matplotlib demo\") \n",
        "plt.xlabel(\"x axis caption\") \n",
        "plt.ylabel(\"y axis caption\") \n",
        "plt.plot(x,y) \n",
        "plt.show()"
      ],
      "execution_count": 0,
      "outputs": [
        {
          "output_type": "display_data",
          "data": {
            "image/png": "[encoded data removed]",
            "text/plain": [
              "<Figure size 432x288 with 1 Axes>"
            ]
          },
          "metadata": {
            "tags": []
          }
        }
      ]
    },
    {
      "cell_type": "code",
      "metadata": {
        "id": "lsorex924qgX",
        "colab_type": "code",
        "outputId": "9c87454a-1cce-4617-b8ef-db6b5a6107b5",
        "colab": {
          "base_uri": "https://localhost:8080/",
          "height": 34
        }
      },
      "source": [
        "import numpy as np\n",
        "x=np.random.randint(0,9,(5,5))\n",
        "print(x.flatten())"
      ],
      "execution_count": 0,
      "outputs": [
        {
          "output_type": "stream",
          "text": [
            "[2 5 2 0 4 0 2 8 4 5 2 0 3 1 0 3 5 0 2 0 2 7 4 4 4]\n"
          ],
          "name": "stdout"
        }
      ]
    },
    {
      "cell_type": "code",
      "metadata": {
        "id": "WahM18YPx4Un",
        "colab_type": "code",
        "outputId": "7aa3ea9e-018a-41c4-a5ca-07f3271f13b9",
        "colab": {
          "base_uri": "https://localhost:8080/",
          "height": 289
        }
      },
      "source": [
        "import numpy as np\n",
        "x=np.random.randint(0,9,(4,4))\n",
        "print(x)\n",
        "y=x.T\n",
        "print(y)\n",
        "print(x.dot(y))\n",
        "\n",
        "unit=np.eye(4,4)\n",
        "print(unit)\n",
        "\n"
      ],
      "execution_count": 0,
      "outputs": [
        {
          "output_type": "stream",
          "text": [
            "[[4 6 6 3]\n",
            " [0 4 1 3]\n",
            " [8 8 4 0]\n",
            " [0 7 7 4]]\n",
            "[[4 0 8 0]\n",
            " [6 4 8 7]\n",
            " [6 1 4 7]\n",
            " [3 3 0 4]]\n",
            "[[ 97  39 104  96]\n",
            " [ 39  26  36  47]\n",
            " [104  36 144  84]\n",
            " [ 96  47  84 114]]\n",
            "[[1. 0. 0. 0.]\n",
            " [0. 1. 0. 0.]\n",
            " [0. 0. 1. 0.]\n",
            " [0. 0. 0. 1.]]\n"
          ],
          "name": "stdout"
        }
      ]
    },
    {
      "cell_type": "code",
      "metadata": {
        "id": "7vWQt14E3-R5",
        "colab_type": "code",
        "outputId": "4ce25168-0d72-444f-8da1-ccd3782b9d4d",
        "colab": {
          "base_uri": "https://localhost:8080/",
          "height": 119
        }
      },
      "source": [
        "import numpy as np\n",
        "a=np.arange(0,60,5)\n",
        "a=a.reshape(3,4)\n",
        "print(a)\n",
        "for x in np.nditer(a,op_flags=['readwrite']):\n",
        "  x[...]=2+x\n",
        "print(a)"
      ],
      "execution_count": 0,
      "outputs": [
        {
          "output_type": "stream",
          "text": [
            "[[ 0  5 10 15]\n",
            " [20 25 30 35]\n",
            " [40 45 50 55]]\n",
            "[[ 2  7 12 17]\n",
            " [22 27 32 37]\n",
            " [42 47 52 57]]\n"
          ],
          "name": "stdout"
        }
      ]
    }
  ]
}